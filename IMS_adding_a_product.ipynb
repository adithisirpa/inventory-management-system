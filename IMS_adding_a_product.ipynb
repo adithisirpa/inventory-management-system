{
  "nbformat": 4,
  "nbformat_minor": 0,
  "metadata": {
    "colab": {
      "name": "IMS_adding a product.ipynb",
      "provenance": []
    },
    "kernelspec": {
      "name": "python3",
      "display_name": "Python 3"
    },
    "language_info": {
      "name": "python"
    }
  },
  "cells": [
    {
      "cell_type": "code",
      "metadata": {
        "id": "XP8_8mYKtnDM"
      },
      "source": [
        "import json"
      ],
      "execution_count": 2,
      "outputs": []
    },
    {
      "cell_type": "markdown",
      "metadata": {
        "id": "MyEEiAq221ZU"
      },
      "source": [
        "**Reading the record.json file and Converting to dictionary**"
      ]
    },
    {
      "cell_type": "code",
      "metadata": {
        "id": "pj6yLhe4tnKy"
      },
      "source": [
        "fd = open(\"record.json\",'r')\n",
        "txt = fd.read()\n",
        "fd.close()"
      ],
      "execution_count": 9,
      "outputs": []
    },
    {
      "cell_type": "code",
      "metadata": {
        "id": "3Na1tzntv14u"
      },
      "source": [
        "record=json.loads(txt)"
      ],
      "execution_count": 21,
      "outputs": []
    },
    {
      "cell_type": "markdown",
      "metadata": {
        "id": "wrBPrA9X3JxK"
      },
      "source": [
        "**Add New Item to the Inventory**"
      ]
    },
    {
      "cell_type": "code",
      "metadata": {
        "id": "22p1nVS_3H4e",
        "colab": {
          "base_uri": "https://localhost:8080/"
        },
        "outputId": "836efd75-d40a-4104-a8f9-a3452cd63187"
      },
      "source": [
        "product_id = str(input(\"Enter product id:\"))\n",
        "name = str(input(\"Enter name:\"))\n",
        "price = int(input(\"Enter price:\"))\n",
        "quantity = int(input(\"Enter quantity:\"))\n",
        "\n",
        "record[product_id] = {'name': name, 'pr': price, 'qn': quantity}\n",
        "\n",
        "jfile = json.dumps(record)\n",
        "f = open(\"record.json\",'w')\n",
        "f.write(jfile)\n",
        "f.close()"
      ],
      "execution_count": 20,
      "outputs": [
        {
          "name": "stdout",
          "output_type": "stream",
          "text": [
            "Enter product id:89\n",
            "Enter name:8\n",
            "Enter price:89\n",
            "Enter quantity:98\n"
          ]
        }
      ]
    },
    {
      "cell_type": "code",
      "metadata": {
        "id": "xZDPLXhdU7cw"
      },
      "source": [
        "record"
      ],
      "execution_count": null,
      "outputs": []
    }
  ]
}