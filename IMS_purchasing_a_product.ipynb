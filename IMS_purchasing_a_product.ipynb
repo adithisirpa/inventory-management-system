{
  "nbformat": 4,
  "nbformat_minor": 0,
  "metadata": {
    "colab": {
      "name": "IMS_purchasing a product.ipynb",
      "provenance": []
    },
    "kernelspec": {
      "name": "python3",
      "display_name": "Python 3"
    },
    "language_info": {
      "name": "python"
    }
  },
  "cells": [
    {
      "cell_type": "code",
      "metadata": {
        "id": "QL3RXelaV5G5"
      },
      "source": [
        "import json"
      ],
      "execution_count": null,
      "outputs": []
    },
    {
      "cell_type": "code",
      "metadata": {
        "id": "rn2k5OUnWVth"
      },
      "source": [
        "fd = open(\"record.json\",'r')\n",
        "txt = fd.read()\n",
        "fd.close()"
      ],
      "execution_count": null,
      "outputs": []
    },
    {
      "cell_type": "code",
      "metadata": {
        "colab": {
          "base_uri": "https://localhost:8080/"
        },
        "id": "AUDhPJHuWbdg",
        "outputId": "099c1594-86e5-4ca8-bfbd-ae66b08e8f30"
      },
      "source": [
        "records = json.loads(txt)\n",
        "records"
      ],
      "execution_count": null,
      "outputs": [
        {
          "output_type": "execute_result",
          "data": {
            "text/plain": [
              "{'1001': {'name': 'Choco Cake', 'pr': 100, 'qn': 34},\n",
              " '1002': {'name': 'Milk Cake', 'pr': 800, 'qn': 99},\n",
              " '1003': {'name': 'Drink', 'pr': 85, 'qn': 97},\n",
              " '1004': {'name': 'Candy', 'pr': 5, 'qn': 1000},\n",
              " '1005': {'name': 'Pen', 'pr': 20, 'qn': 100},\n",
              " '1006': {'name': 'Phone', 'pr': 50000, 'qn': 9},\n",
              " '1007': {'name': 'Mic', 'pr': 1500, 'qn': 0},\n",
              " '1008': {'name': 'Case', 'pr': 599, 'qn': 5},\n",
              " '1009': {'name': 'Keyboard', 'pr': 1999, 'qn': 10}}"
            ]
          },
          "metadata": {},
          "execution_count": 89
        }
      ]
    },
    {
      "cell_type": "code",
      "metadata": {
        "colab": {
          "base_uri": "https://localhost:8080/"
        },
        "id": "8GtP9SHUbV_z",
        "outputId": "7b1d7a02-3c1e-4509-f696-82f1c0d38e16"
      },
      "source": [
        "p  = str(input(\"Enter the product_Id: \"))\n",
        "q = int(input(\"Enter the quantity: \"))"
      ],
      "execution_count": 98,
      "outputs": [
        {
          "name": "stdout",
          "output_type": "stream",
          "text": [
            "Enter the product_Id: 1006\n",
            "Enter the quantity: 1\n"
          ]
        }
      ]
    },
    {
      "cell_type": "markdown",
      "metadata": {
        "id": "Q3h_mtVDXBqL"
      },
      "source": [
        "**Purchasing the Product**"
      ]
    },
    {
      "cell_type": "code",
      "metadata": {
        "colab": {
          "base_uri": "https://localhost:8080/"
        },
        "id": "18AlvLs8XFcL",
        "outputId": "b4e18cf9-341f-47c0-a9c7-d72df90546c5"
      },
      "source": [
        "print(\"Product: \", records[p]['name'])\n",
        "print(\"Price: \", records[p]['pr'])\n",
        "print(\"Billing Amount: \", records[p]['pr'] * q)\n",
        "\n",
        "records[p]['qn'] = records[p]['qn'] - q"
      ],
      "execution_count": 99,
      "outputs": [
        {
          "output_type": "stream",
          "name": "stdout",
          "text": [
            "Product:  Phone\n",
            "Price:  50000\n",
            "Billing Amount:  50000\n"
          ]
        }
      ]
    },
    {
      "cell_type": "markdown",
      "metadata": {
        "id": "PrTMf7hYc8De"
      },
      "source": [
        "**Update list**"
      ]
    },
    {
      "cell_type": "code",
      "metadata": {
        "id": "5jXp3-Rwc5Xm"
      },
      "source": [
        "j = json.dumps(records)\n",
        "\n",
        "fd = open(\"record.json\",'w')\n",
        "fd.write(j)\n",
        "fd.close()"
      ],
      "execution_count": 100,
      "outputs": []
    },
    {
      "cell_type": "code",
      "metadata": {
        "colab": {
          "base_uri": "https://localhost:8080/",
          "height": 86
        },
        "id": "WfmS9VYulXZj",
        "outputId": "5a74edf8-ce85-449d-f4d5-01552fa0bdfc"
      },
      "source": [
        "j"
      ],
      "execution_count": 101,
      "outputs": [
        {
          "output_type": "execute_result",
          "data": {
            "application/vnd.google.colaboratory.intrinsic+json": {
              "type": "string"
            },
            "text/plain": [
              "'{\"1001\": {\"name\": \"Choco Cake\", \"qn\": 34, \"pr\": 100}, \"1002\": {\"name\": \"Milk Cake\", \"pr\": 800, \"qn\": 98}, \"1003\": {\"name\": \"Drink\", \"pr\": 85, \"qn\": 97}, \"1004\": {\"name\": \"Candy\", \"pr\": 5, \"qn\": 1000}, \"1005\": {\"name\": \"Pen\", \"pr\": 20, \"qn\": 100}, \"1006\": {\"name\": \"Phone\", \"pr\": 50000, \"qn\": 8}, \"1007\": {\"name\": \"Mic\", \"pr\": 1500, \"qn\": 0}, \"1008\": {\"name\": \"Case\", \"pr\": 599, \"qn\": 5}, \"1009\": {\"name\": \"Keyboard\", \"pr\": 1999, \"qn\": 10}}'"
            ]
          },
          "metadata": {},
          "execution_count": 101
        }
      ]
    },
    {
      "cell_type": "markdown",
      "metadata": {
        "id": "o0Ac85ffcTX5"
      },
      "source": [
        "**Sales**"
      ]
    },
    {
      "cell_type": "code",
      "metadata": {
        "id": "mQOWH-4tli-G"
      },
      "source": [
        "sales = {1 : {'prod' : p, 'qn' : q, 'amount': records[p]['pr'] * q},2:{'prod' : p, 'qn' : q, 'amount': records[p]['pr'] * q},3:{'prod' : p, 'qn' : q, 'amount': records[p]['pr'] * q}}\n",
        "      "
      ],
      "execution_count": 105,
      "outputs": []
    },
    {
      "cell_type": "code",
      "metadata": {
        "id": "9ARvoR4Vli6e"
      },
      "source": [
        "sale = json.dumps(sales)"
      ],
      "execution_count": 117,
      "outputs": []
    },
    {
      "cell_type": "code",
      "metadata": {
        "id": "SxXPRswsoTOk"
      },
      "source": [
        "fd = open(\"sales.json\",'w')\n",
        "fd.write(sale)\n",
        "fd.close()"
      ],
      "execution_count": 122,
      "outputs": []
    },
    {
      "cell_type": "code",
      "metadata": {
        "colab": {
          "base_uri": "https://localhost:8080/"
        },
        "id": "dAq79pOAli4t",
        "outputId": "45bf7a75-0ba0-4f51-a4ad-896e20f1e5c2"
      },
      "source": [
        "sales[(len(sales)+1)]={'prod' : p, 'qn' : q, 'amount': records[p]['pr'] * q}\n",
        "records"
      ],
      "execution_count": 127,
      "outputs": [
        {
          "output_type": "execute_result",
          "data": {
            "text/plain": [
              "{'1001': {'name': 'Choco Cake', 'pr': 100, 'qn': 34},\n",
              " '1002': {'name': 'Milk Cake', 'pr': 800, 'qn': 98},\n",
              " '1003': {'name': 'Drink', 'pr': 85, 'qn': 97},\n",
              " '1004': {'name': 'Candy', 'pr': 5, 'qn': 1000},\n",
              " '1005': {'name': 'Pen', 'pr': 20, 'qn': 100},\n",
              " '1006': {'name': 'Phone', 'pr': 50000, 'qn': 8},\n",
              " '1007': {'name': 'Mic', 'pr': 1500, 'qn': 0},\n",
              " '1008': {'name': 'Case', 'pr': 599, 'qn': 5},\n",
              " '1009': {'name': 'Keyboard', 'pr': 1999, 'qn': 10}}"
            ]
          },
          "metadata": {},
          "execution_count": 127
        }
      ]
    }
  ]
}